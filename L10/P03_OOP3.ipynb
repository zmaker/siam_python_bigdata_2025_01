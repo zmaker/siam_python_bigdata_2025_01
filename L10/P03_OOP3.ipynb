{
 "cells": [
  {
   "cell_type": "markdown",
   "metadata": {},
   "source": [
    "# OOP - Ereditarietà"
   ]
  },
  {
   "cell_type": "code",
   "execution_count": 4,
   "metadata": {},
   "outputs": [],
   "source": [
    "class Auto():\n",
    "    def __init__(self, colore, anno):\n",
    "        self.colore = colore\n",
    "        self.anno = anno\n",
    "        self.speed = 0\n",
    "    \n",
    "    def setSpeed(self, spd):\n",
    "        self.speed = spd\n",
    "    \n",
    "    def beep(self, suono):\n",
    "        return f\"{suono} .)))\"\n",
    "    \n",
    "    def __str__(self):\n",
    "        return f\"Auto c: {self.colore} y:{self.anno} v:{self.speed}\""
   ]
  },
  {
   "cell_type": "code",
   "execution_count": 7,
   "metadata": {},
   "outputs": [],
   "source": [
    "class Fiaz500(Auto):\n",
    "    pass"
   ]
  },
  {
   "cell_type": "code",
   "execution_count": 5,
   "metadata": {},
   "outputs": [
    {
     "name": "stdout",
     "output_type": "stream",
     "text": [
      "Auto c: rosso y:2012 v:100\n"
     ]
    }
   ],
   "source": [
    "a1 = Auto(\"rosso\", 2012)\n",
    "a1.setSpeed(100)\n",
    "a1.beep(\"biii\")\n",
    "print(a1)"
   ]
  },
  {
   "cell_type": "code",
   "execution_count": 8,
   "metadata": {},
   "outputs": [
    {
     "name": "stdout",
     "output_type": "stream",
     "text": [
      "Auto c: gialla y:1979 v:0\n"
     ]
    }
   ],
   "source": [
    "a2 = Fiaz500(\"gialla\", 1979)\n",
    "print(a2)"
   ]
  },
  {
   "cell_type": "code",
   "execution_count": 10,
   "metadata": {},
   "outputs": [
    {
     "name": "stdout",
     "output_type": "stream",
     "text": [
      "hooonk!!!!!\n",
      "Perrari c: bianco y:2021 v:0 turbo: True\n"
     ]
    }
   ],
   "source": [
    "class Perrari(Auto):\n",
    "    def __init__(self, colore, anno, turbo):\n",
    "        super().__init__(colore, anno)\n",
    "        self.turbo = turbo\n",
    "    \n",
    "    def beep(self, suono):\n",
    "        return f\"{suono}!!!!!\"\n",
    "    \n",
    "    def __str__(self):\n",
    "        return f\"Perrari c: {self.colore} y:{self.anno} v:{self.speed} turbo: {self.turbo}\"\n",
    "p = Perrari(\"bianco\", 2021, True)\n",
    "print(p.beep(\"hooonk\"))\n",
    "print(p)"
   ]
  }
 ],
 "metadata": {
  "kernelspec": {
   "display_name": "Python 3",
   "language": "python",
   "name": "python3"
  },
  "language_info": {
   "codemirror_mode": {
    "name": "ipython",
    "version": 3
   },
   "file_extension": ".py",
   "mimetype": "text/x-python",
   "name": "python",
   "nbconvert_exporter": "python",
   "pygments_lexer": "ipython3",
   "version": "3.12.2"
  }
 },
 "nbformat": 4,
 "nbformat_minor": 2
}
