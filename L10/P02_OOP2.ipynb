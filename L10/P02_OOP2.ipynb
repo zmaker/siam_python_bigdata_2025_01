{
 "cells": [
  {
   "cell_type": "markdown",
   "metadata": {},
   "source": [
    "# OOP - Incapsulamento\n",
    "Nascondo/proteggo l'accesso alle proprietà della classe"
   ]
  },
  {
   "cell_type": "code",
   "execution_count": 7,
   "metadata": {},
   "outputs": [
    {
     "name": "stdout",
     "output_type": "stream",
     "text": [
      "saldo: 100\n",
      "saldo: 10000\n"
     ]
    }
   ],
   "source": [
    "class Conto():\n",
    "    def __init__(self, saldo=0):\n",
    "        self.saldo = saldo\n",
    "\n",
    "saldo_iniziale = 100\n",
    "cc = Conto(saldo_iniziale)\n",
    "print(\"saldo:\", cc.saldo)\n",
    "cc.saldo = 10000\n",
    "print(\"saldo:\", cc.saldo)"
   ]
  },
  {
   "cell_type": "markdown",
   "metadata": {},
   "source": [
    "proteggo la proprietà saldo così che no sia visibile/accessibile dall'esterno\n",
    "\n",
    "AGgiungendo __ ad una proprietà, diventa **privata**"
   ]
  },
  {
   "cell_type": "code",
   "execution_count": 8,
   "metadata": {},
   "outputs": [
    {
     "ename": "AttributeError",
     "evalue": "'Conto2' object has no attribute 'saldo'",
     "output_type": "error",
     "traceback": [
      "\u001b[0;31m---------------------------------------------------------------------------\u001b[0m",
      "\u001b[0;31mAttributeError\u001b[0m                            Traceback (most recent call last)",
      "Cell \u001b[0;32mIn[8], line 8\u001b[0m\n\u001b[1;32m      6\u001b[0m cc \u001b[38;5;241m=\u001b[39m Conto2(saldo_iniziale)\n\u001b[1;32m      7\u001b[0m \u001b[38;5;66;03m# non è possibile accedere direttamente a saldo\u001b[39;00m\n\u001b[0;32m----> 8\u001b[0m \u001b[38;5;28mprint\u001b[39m(\u001b[38;5;124m\"\u001b[39m\u001b[38;5;124msaldo:\u001b[39m\u001b[38;5;124m\"\u001b[39m, \u001b[43mcc\u001b[49m\u001b[38;5;241;43m.\u001b[39;49m\u001b[43msaldo\u001b[49m)\n",
      "\u001b[0;31mAttributeError\u001b[0m: 'Conto2' object has no attribute 'saldo'"
     ]
    }
   ],
   "source": [
    "class Conto2():\n",
    "    def __init__(self, saldo=0):\n",
    "        self.__saldo = saldo\n",
    "\n",
    "saldo_iniziale = 100\n",
    "cc = Conto2(saldo_iniziale)\n",
    "# non è possibile accedere direttamente a saldo\n",
    "#print(\"saldo:\", cc.saldo)"
   ]
  },
  {
   "cell_type": "markdown",
   "metadata": {},
   "source": [
    "Come posso accedere a saldo? aggiungo dei metodi specifici. es. preleva e deposita"
   ]
  },
  {
   "cell_type": "code",
   "execution_count": 6,
   "metadata": {},
   "outputs": [
    {
     "name": "stdout",
     "output_type": "stream",
     "text": [
      "125\n"
     ]
    }
   ],
   "source": [
    "class Conto3():\n",
    "    def __init__(self, saldo=0):\n",
    "        self.__saldo = saldo\n",
    "\n",
    "    def deposita(self, importo=0):\n",
    "        if importo > 0:\n",
    "            self.__saldo += importo\n",
    "    \n",
    "    def getSaldo(self):\n",
    "        return self.__saldo\n",
    "\n",
    "saldo_iniziale = 100\n",
    "cc = Conto3(saldo_iniziale)\n",
    "cc.deposita(25)\n",
    "print(cc.getSaldo())"
   ]
  },
  {
   "cell_type": "markdown",
   "metadata": {},
   "source": [
    "esempio di getter e setter"
   ]
  },
  {
   "cell_type": "code",
   "execution_count": 10,
   "metadata": {},
   "outputs": [
    {
     "name": "stdout",
     "output_type": "stream",
     "text": [
      "Python 120\n",
      "C++ 120\n"
     ]
    }
   ],
   "source": [
    "class Libro():\n",
    "    def __init__(self, titolo, prezzo):\n",
    "        self.__prezzo = prezzo\n",
    "        self.__titolo = titolo\n",
    "\n",
    "    def getTitolo(self):\n",
    "        return self.__titolo\n",
    "    \n",
    "    def setTitolo(self, titolo):\n",
    "        self.__titolo = titolo\n",
    "    \n",
    "    def getPrezzo(self):\n",
    "        return self.__prezzo\n",
    "    \n",
    "    def setPrezzo(self, prezzo):\n",
    "        if prezzo > 0:\n",
    "            self.__prezzo = prezzo\n",
    "\n",
    "l = Libro(\"Python\", 100)\n",
    "l.setPrezzo(120)\n",
    "print(l.getTitolo(), l.getPrezzo())\n",
    "l.setTitolo(\"C++\")\n",
    "print(l.getTitolo(), l.getPrezzo())"
   ]
  }
 ],
 "metadata": {
  "kernelspec": {
   "display_name": "Python 3",
   "language": "python",
   "name": "python3"
  },
  "language_info": {
   "codemirror_mode": {
    "name": "ipython",
    "version": 3
   },
   "file_extension": ".py",
   "mimetype": "text/x-python",
   "name": "python",
   "nbconvert_exporter": "python",
   "pygments_lexer": "ipython3",
   "version": "3.12.2"
  }
 },
 "nbformat": 4,
 "nbformat_minor": 2
}
