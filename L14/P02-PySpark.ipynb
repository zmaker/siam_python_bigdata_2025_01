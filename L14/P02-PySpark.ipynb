{
 "cells": [
  {
   "cell_type": "code",
   "execution_count": 1,
   "id": "f1acf70c-bffa-4a05-b16d-581f97a78afc",
   "metadata": {},
   "outputs": [],
   "source": [
    "from pyspark import SparkContext"
   ]
  },
  {
   "cell_type": "code",
   "execution_count": 2,
   "id": "35e769f9-ef23-414c-ba4c-9425296d7fa3",
   "metadata": {},
   "outputs": [],
   "source": [
    "from pyspark.sql import SparkSession"
   ]
  },
  {
   "cell_type": "code",
   "execution_count": 3,
   "id": "cb474cb2-387a-4f0a-ab7d-e10356dd7845",
   "metadata": {},
   "outputs": [],
   "source": [
    "ss = SparkSession.builder.appName(\"MyPySpark01\").getOrCreate()\n",
    "sc = ss.sparkContext"
   ]
  },
  {
   "cell_type": "code",
   "execution_count": 4,
   "id": "e7bb2fd4-0a55-4135-9126-3903a7edf72f",
   "metadata": {},
   "outputs": [],
   "source": [
    "nomi = ['Rossi Mario 25', 'Bianchi luigi 27', 'Verdi Giuseppe 34', 'Anna Rimoldi 45']"
   ]
  },
  {
   "cell_type": "code",
   "execution_count": 5,
   "id": "731529a6-0004-45c5-885f-cebbec8249c8",
   "metadata": {},
   "outputs": [],
   "source": [
    "rdd = sc.parallelize(nomi)"
   ]
  },
  {
   "cell_type": "code",
   "execution_count": 6,
   "id": "2119774b-0990-4574-96ee-303ed47eff86",
   "metadata": {},
   "outputs": [
    {
     "data": {
      "text/plain": [
       "ParallelCollectionRDD[0] at readRDDFromFile at PythonRDD.scala:289"
      ]
     },
     "execution_count": 6,
     "metadata": {},
     "output_type": "execute_result"
    }
   ],
   "source": [
    "rdd"
   ]
  },
  {
   "cell_type": "code",
   "execution_count": 7,
   "id": "19cd58b0-b9a7-4bf4-a0bc-9f298fc88728",
   "metadata": {},
   "outputs": [
    {
     "data": {
      "text/plain": [
       "['Rossi Mario 25', 'Bianchi luigi 27', 'Verdi Giuseppe 34', 'Anna Rimoldi 45']"
      ]
     },
     "execution_count": 7,
     "metadata": {},
     "output_type": "execute_result"
    }
   ],
   "source": [
    "rdd.collect()"
   ]
  },
  {
   "cell_type": "code",
   "execution_count": 8,
   "id": "b30e8163-7104-430d-9be0-09fa9dfc1d1c",
   "metadata": {},
   "outputs": [
    {
     "data": {
      "text/plain": [
       "[25, 27, 34, 45]"
      ]
     },
     "execution_count": 8,
     "metadata": {},
     "output_type": "execute_result"
    }
   ],
   "source": [
    "rdd1 = rdd.map( lambda riga : int(riga[-2:]) )\n",
    "rdd1.collect()"
   ]
  },
  {
   "cell_type": "markdown",
   "id": "a9f300c4-209f-48d4-b329-5a076e60e99d",
   "metadata": {},
   "source": [
    "# Map Reduce"
   ]
  },
  {
   "cell_type": "code",
   "execution_count": 9,
   "id": "de094d44-a507-45af-abd6-17f3320ca716",
   "metadata": {},
   "outputs": [],
   "source": [
    "rdd2 = sc.parallelize([1,2,3,4,5,6,7,8,12,23,34,45,75,68,67,78,87] )"
   ]
  },
  {
   "cell_type": "code",
   "execution_count": 10,
   "id": "3d9e4834-7021-476c-b638-091ce827e433",
   "metadata": {},
   "outputs": [
    {
     "data": {
      "text/plain": [
       "[('DISPARI', 1),\n",
       " ('PARI', 2),\n",
       " ('DISPARI', 3),\n",
       " ('PARI', 4),\n",
       " ('DISPARI', 5),\n",
       " ('PARI', 6),\n",
       " ('DISPARI', 7),\n",
       " ('PARI', 8),\n",
       " ('PARI', 12),\n",
       " ('DISPARI', 23),\n",
       " ('PARI', 34),\n",
       " ('DISPARI', 45),\n",
       " ('DISPARI', 75),\n",
       " ('PARI', 68),\n",
       " ('DISPARI', 67),\n",
       " ('PARI', 78),\n",
       " ('DISPARI', 87)]"
      ]
     },
     "execution_count": 10,
     "metadata": {},
     "output_type": "execute_result"
    }
   ],
   "source": [
    "rdd3 = rdd2.map( lambda n : ( ( 'PARI' if (n%2)==0 else 'DISPARI' ) , n ) )\n",
    "rdd3.collect()"
   ]
  },
  {
   "cell_type": "code",
   "execution_count": 11,
   "id": "a2006fbe-5701-486a-87e2-a1aa41ccb49f",
   "metadata": {},
   "outputs": [
    {
     "data": {
      "text/plain": [
       "[('DISPARI', 313), ('PARI', 212)]"
      ]
     },
     "execution_count": 11,
     "metadata": {},
     "output_type": "execute_result"
    }
   ],
   "source": [
    "rdd4 = rdd3.reduceByKey( lambda a,b : a+b )\n",
    "rdd4.collect()"
   ]
  },
  {
   "cell_type": "code",
   "execution_count": null,
   "id": "ebf14f88-c7cd-4543-a4d5-9dfd02fb5394",
   "metadata": {},
   "outputs": [],
   "source": []
  }
 ],
 "metadata": {
  "kernelspec": {
   "display_name": "Python 3 (ipykernel)",
   "language": "python",
   "name": "python3"
  },
  "language_info": {
   "codemirror_mode": {
    "name": "ipython",
    "version": 3
   },
   "file_extension": ".py",
   "mimetype": "text/x-python",
   "name": "python",
   "nbconvert_exporter": "python",
   "pygments_lexer": "ipython3",
   "version": "3.10.16"
  }
 },
 "nbformat": 4,
 "nbformat_minor": 5
}
