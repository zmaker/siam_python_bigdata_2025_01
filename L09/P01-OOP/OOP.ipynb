{
 "cells": [
  {
   "cell_type": "markdown",
   "metadata": {},
   "source": [
    "# Programmazione a oggetti - OOP\n",
    "\n",
    "Creiamo la prima classe in Python"
   ]
  },
  {
   "cell_type": "code",
   "execution_count": 21,
   "metadata": {},
   "outputs": [],
   "source": [
    "class Mela():\n",
    "    pass"
   ]
  },
  {
   "cell_type": "markdown",
   "metadata": {},
   "source": [
    "Ora creo alcune istanze della classe Mela"
   ]
  },
  {
   "cell_type": "code",
   "execution_count": 22,
   "metadata": {},
   "outputs": [
    {
     "name": "stdout",
     "output_type": "stream",
     "text": [
      "<__main__.Mela object at 0x108085040>\n",
      "<__main__.Mela object at 0x103ea15e0>\n"
     ]
    }
   ],
   "source": [
    "m1 = Mela()\n",
    "m2 = Mela()\n",
    "print(m1)\n",
    "print(m2)"
   ]
  },
  {
   "cell_type": "markdown",
   "metadata": {},
   "source": [
    "# costruttore\n",
    "una funzione speciale chiamata quando istanzio la classe\n"
   ]
  },
  {
   "cell_type": "code",
   "execution_count": 23,
   "metadata": {},
   "outputs": [],
   "source": [
    "class Pera():\n",
    "    def __init__(self):\n",
    "        #costruttore classe Pera\n",
    "        print(\"Pera creata!\")\n"
   ]
  },
  {
   "cell_type": "markdown",
   "metadata": {},
   "source": [
    "ora creo un'istanza di Pera:"
   ]
  },
  {
   "cell_type": "code",
   "execution_count": 24,
   "metadata": {},
   "outputs": [
    {
     "name": "stdout",
     "output_type": "stream",
     "text": [
      "Pera creata!\n"
     ]
    }
   ],
   "source": [
    "p1 = Pera()\n"
   ]
  },
  {
   "cell_type": "markdown",
   "metadata": {},
   "source": [
    "Aggiungo delle proprietà = variabili interne alla classe"
   ]
  },
  {
   "cell_type": "code",
   "execution_count": 25,
   "metadata": {},
   "outputs": [],
   "source": [
    "class Banana():\n",
    "    def __init__(self):\n",
    "        print(\"Banana creata!\")\n",
    "        self.peso = 1000\n",
    "        self.colore = \"giallo\"\n",
    "        self.lunghezza = 30\n"
   ]
  },
  {
   "cell_type": "code",
   "execution_count": 26,
   "metadata": {},
   "outputs": [
    {
     "name": "stdout",
     "output_type": "stream",
     "text": [
      "Banana creata!\n",
      "Banana:  giallo maculato 1000 30\n"
     ]
    }
   ],
   "source": [
    "b1 = Banana()\n",
    "\n",
    "b1.colore = \"giallo maculato\"\n",
    "print(\"Banana: \", b1.colore, b1.peso, b1.lunghezza)"
   ]
  },
  {
   "cell_type": "markdown",
   "metadata": {},
   "source": [
    "Il costruttore può prendere dei parametri\n"
   ]
  },
  {
   "cell_type": "code",
   "execution_count": 27,
   "metadata": {},
   "outputs": [
    {
     "name": "stdout",
     "output_type": "stream",
     "text": [
      "peso patata:  1250 terra di siena\n",
      "peso patata:  567 marrone\n"
     ]
    }
   ],
   "source": [
    "class Patata():\n",
    "    def __init__(self, peso):\n",
    "        self.peso = peso\n",
    "        self.colore = \"marrone\"\n",
    "\n",
    "p1 = Patata(1250)\n",
    "p2 = Patata(567)\n",
    "\n",
    "p1.colore = \"terra di siena\"\n",
    "\n",
    "print(\"peso patata: \", p1.peso, p1.colore)\n",
    "print(\"peso patata: \", p2.peso, p2.colore)"
   ]
  },
  {
   "cell_type": "markdown",
   "metadata": {},
   "source": [
    "Classe con più parametri e valori di default"
   ]
  },
  {
   "cell_type": "code",
   "execution_count": 37,
   "metadata": {},
   "outputs": [
    {
     "name": "stdout",
     "output_type": "stream",
     "text": [
      "Carota (123g 15cm di color Arancio)\n",
      "Carota (345g 23.4cm di color Arancio)\n",
      "Carota (235g 17cm di color Verde)\n",
      "bye bye\n",
      "bye bye\n",
      "bye bye\n"
     ]
    }
   ],
   "source": [
    "class Carota():\n",
    "    def __init__(self, peso, lun, colore = \"Arancio\"):\n",
    "        self.peso = peso\n",
    "        self.lunghezza = lun\n",
    "        self.colore = colore\n",
    "    \n",
    "    def __str__(self):\n",
    "        return f\"Carota ({self.peso}g {self.lunghezza}cm di color {self.colore})\"\n",
    "    \n",
    "    def __del__(self):\n",
    "        print(\"bye bye\")\n",
    "\n",
    "c1 = Carota(123, 15)\n",
    "c2 = Carota(lun=23.4, peso=345)\n",
    "c3 = Carota(235, 17, \"Verde\")\n",
    "\n",
    "print(c1)\n",
    "print(c2)\n",
    "print(c3)\n",
    "\n",
    "del c1 \n",
    "del c2 \n",
    "del c3"
   ]
  },
  {
   "cell_type": "markdown",
   "metadata": {},
   "source": [
    "classe zucchina con alcuni metodi"
   ]
  },
  {
   "cell_type": "code",
   "execution_count": 40,
   "metadata": {},
   "outputs": [
    {
     "name": "stdout",
     "output_type": "stream",
     "text": [
      "Z: 100 170 verde neutro\n",
      "Z: 90.0 170 verde neutro\n",
      "10\n"
     ]
    }
   ],
   "source": [
    "class Zucchina():\n",
    "    def __init__(self, lun, peso, colore=\"verde\"):\n",
    "        self.peso = peso\n",
    "        self.lunghezza = lun\n",
    "        self.colore = colore\n",
    "        self.sapore = \"neutro\"\n",
    "    \n",
    "    def __str__(self):\n",
    "        return f\"Z: {self.peso} {self.lunghezza} {self.colore} {self.sapore}\"\n",
    "    \n",
    "    def sbuccia(self):\n",
    "        self.peso = self.peso * 0.9\n",
    "    \n",
    "    def affetta(self):\n",
    "        self.fette = 10\n",
    "\n",
    "z1 = Zucchina(170, 100)\n",
    "print(z1)\n",
    "z1.sbuccia()\n",
    "print(z1)\n",
    "z1.affetta()\n",
    "print(z1.fette)"
   ]
  }
 ],
 "metadata": {
  "kernelspec": {
   "display_name": "Python 3",
   "language": "python",
   "name": "python3"
  },
  "language_info": {
   "codemirror_mode": {
    "name": "ipython",
    "version": 3
   },
   "file_extension": ".py",
   "mimetype": "text/x-python",
   "name": "python",
   "nbconvert_exporter": "python",
   "pygments_lexer": "ipython3",
   "version": "3.12.2"
  }
 },
 "nbformat": 4,
 "nbformat_minor": 2
}
