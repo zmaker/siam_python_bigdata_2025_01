{
 "cells": [
  {
   "cell_type": "code",
   "execution_count": 1,
   "id": "f1acf70c-bffa-4a05-b16d-581f97a78afc",
   "metadata": {},
   "outputs": [],
   "source": [
    "from pyspark import SparkContext"
   ]
  },
  {
   "cell_type": "code",
   "execution_count": 2,
   "id": "35e769f9-ef23-414c-ba4c-9425296d7fa3",
   "metadata": {},
   "outputs": [],
   "source": [
    "from pyspark.sql import SparkSession"
   ]
  },
  {
   "cell_type": "code",
   "execution_count": 3,
   "id": "cb474cb2-387a-4f0a-ab7d-e10356dd7845",
   "metadata": {},
   "outputs": [],
   "source": [
    "ss = SparkSession.builder.appName(\"MyPySpark01\").getOrCreate()\n",
    "sc = ss.sparkContext"
   ]
  },
  {
   "cell_type": "code",
   "execution_count": 4,
   "id": "e7bb2fd4-0a55-4135-9126-3903a7edf72f",
   "metadata": {},
   "outputs": [],
   "source": [
    "nomi = ['Rossi Mario 25', 'Bianchi luigi 27', 'Verdi Giuseppe 34', 'Anna Rimoldi 45']"
   ]
  },
  {
   "cell_type": "code",
   "execution_count": 5,
   "id": "731529a6-0004-45c5-885f-cebbec8249c8",
   "metadata": {},
   "outputs": [],
   "source": [
    "rdd = sc.parallelize(nomi)"
   ]
  },
  {
   "cell_type": "code",
   "execution_count": 6,
   "id": "2119774b-0990-4574-96ee-303ed47eff86",
   "metadata": {},
   "outputs": [
    {
     "data": {
      "text/plain": [
       "ParallelCollectionRDD[0] at readRDDFromFile at PythonRDD.scala:289"
      ]
     },
     "execution_count": 6,
     "metadata": {},
     "output_type": "execute_result"
    }
   ],
   "source": [
    "rdd"
   ]
  },
  {
   "cell_type": "code",
   "execution_count": 7,
   "id": "19cd58b0-b9a7-4bf4-a0bc-9f298fc88728",
   "metadata": {},
   "outputs": [
    {
     "data": {
      "text/plain": [
       "['Rossi Mario 25', 'Bianchi luigi 27', 'Verdi Giuseppe 34', 'Anna Rimoldi 45']"
      ]
     },
     "execution_count": 7,
     "metadata": {},
     "output_type": "execute_result"
    }
   ],
   "source": [
    "rdd.collect()"
   ]
  },
  {
   "cell_type": "code",
   "execution_count": 8,
   "id": "b30e8163-7104-430d-9be0-09fa9dfc1d1c",
   "metadata": {},
   "outputs": [
    {
     "data": {
      "text/plain": [
       "[25, 27, 34, 45]"
      ]
     },
     "execution_count": 8,
     "metadata": {},
     "output_type": "execute_result"
    }
   ],
   "source": [
    "rdd1 = rdd.map( lambda riga : int(riga[-2:]) )\n",
    "rdd1.collect()"
   ]
  },
  {
   "cell_type": "code",
   "execution_count": null,
   "id": "910d7b20-8b61-4923-addb-339e4b92c557",
   "metadata": {},
   "outputs": [],
   "source": []
  }
 ],
 "metadata": {
  "kernelspec": {
   "display_name": "Python 3 (ipykernel)",
   "language": "python",
   "name": "python3"
  },
  "language_info": {
   "codemirror_mode": {
    "name": "ipython",
    "version": 3
   },
   "file_extension": ".py",
   "mimetype": "text/x-python",
   "name": "python",
   "nbconvert_exporter": "python",
   "pygments_lexer": "ipython3",
   "version": "3.10.16"
  }
 },
 "nbformat": 4,
 "nbformat_minor": 5
}
