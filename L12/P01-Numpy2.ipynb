{
 "cells": [
  {
   "cell_type": "markdown",
   "metadata": {},
   "source": [
    "# NumPy - parte 2"
   ]
  },
  {
   "cell_type": "code",
   "execution_count": 10,
   "metadata": {},
   "outputs": [],
   "source": [
    "import numpy as np"
   ]
  },
  {
   "cell_type": "markdown",
   "metadata": {},
   "source": [
    "Genero una lista di numeri casuali"
   ]
  },
  {
   "cell_type": "code",
   "execution_count": 11,
   "metadata": {},
   "outputs": [
    {
     "name": "stdout",
     "output_type": "stream",
     "text": [
      "[11 39 85  7 24 46 89 17 15 90 40  0 33 87 93 36 37 64 50 87]\n"
     ]
    }
   ],
   "source": [
    "n = np.random.randint(0,100, 20)\n",
    "print(n)"
   ]
  },
  {
   "cell_type": "markdown",
   "metadata": {},
   "source": [
    "Filtro gli elementi \"al volo\""
   ]
  },
  {
   "cell_type": "code",
   "execution_count": 12,
   "metadata": {},
   "outputs": [
    {
     "name": "stdout",
     "output_type": "stream",
     "text": [
      "[11 39  7 24 46 17 15 40  0 33 36 37]\n"
     ]
    }
   ],
   "source": [
    "n2 = n[n < 50]\n",
    "print(n2)"
   ]
  },
  {
   "cell_type": "code",
   "execution_count": 13,
   "metadata": {},
   "outputs": [
    {
     "name": "stdout",
     "output_type": "stream",
     "text": [
      "[11 39 85 24 46 89 17 15 90 40  0 33 87 93 36 37 64 50 87]\n"
     ]
    }
   ],
   "source": [
    "n3 = n[n != 7]\n",
    "print(n3)"
   ]
  },
  {
   "cell_type": "markdown",
   "metadata": {},
   "source": [
    "estraggo i numeri pari"
   ]
  },
  {
   "cell_type": "code",
   "execution_count": 14,
   "metadata": {},
   "outputs": [
    {
     "name": "stdout",
     "output_type": "stream",
     "text": [
      "[24 46 90 40  0 36 64 50]\n"
     ]
    }
   ],
   "source": [
    "npari = n[ n%2 == 0 ]\n",
    "print(npari)"
   ]
  },
  {
   "cell_type": "markdown",
   "metadata": {},
   "source": [
    "intervalli di numeri"
   ]
  },
  {
   "cell_type": "code",
   "execution_count": 15,
   "metadata": {},
   "outputs": [
    {
     "name": "stdout",
     "output_type": "stream",
     "text": [
      "[39 46 40 33 36 37 50]\n"
     ]
    }
   ],
   "source": [
    "n4 = n[(n >= 25) & (n <= 50) ] #and = &\n",
    "print(n4)"
   ]
  },
  {
   "cell_type": "code",
   "execution_count": 16,
   "metadata": {},
   "outputs": [
    {
     "name": "stdout",
     "output_type": "stream",
     "text": [
      "[11 85  7 24 89 17 15 90  0 87 93 64 87]\n"
     ]
    }
   ],
   "source": [
    "n5 = n[(n<25) | (n>50)] # or = |\n",
    "print(n5)"
   ]
  },
  {
   "cell_type": "markdown",
   "metadata": {},
   "source": [
    "## where"
   ]
  },
  {
   "cell_type": "code",
   "execution_count": 18,
   "metadata": {},
   "outputs": [
    {
     "name": "stdout",
     "output_type": "stream",
     "text": [
      "['D' 'D' 'D' 'D' 'P' 'P' 'D' 'D' 'D' 'P' 'P' 'P' 'D' 'D' 'D' 'P' 'D' 'P'\n",
      " 'P' 'D']\n"
     ]
    }
   ],
   "source": [
    "n6 = np.where((n%2 == 0), \"P\", \"D\")\n",
    "print(n6)"
   ]
  },
  {
   "cell_type": "markdown",
   "metadata": {},
   "source": [
    "# funzioni statistiche"
   ]
  },
  {
   "cell_type": "code",
   "execution_count": 20,
   "metadata": {},
   "outputs": [
    {
     "name": "stdout",
     "output_type": "stream",
     "text": [
      "min 0\n",
      "max 93\n",
      "media 47.5\n",
      "ptp 93\n",
      "sum 950\n"
     ]
    }
   ],
   "source": [
    "print(\"min\", np.amin(n))\n",
    "print(\"max\", np.amax(n))\n",
    "print(\"media\", np.average(n))\n",
    "print(\"ptp\", np.ptp(n))\n",
    "print(\"sum\", np.sum(n))"
   ]
  }
 ],
 "metadata": {
  "kernelspec": {
   "display_name": "Python 3",
   "language": "python",
   "name": "python3"
  },
  "language_info": {
   "codemirror_mode": {
    "name": "ipython",
    "version": 3
   },
   "file_extension": ".py",
   "mimetype": "text/x-python",
   "name": "python",
   "nbconvert_exporter": "python",
   "pygments_lexer": "ipython3",
   "version": "3.12.2"
  }
 },
 "nbformat": 4,
 "nbformat_minor": 2
}
