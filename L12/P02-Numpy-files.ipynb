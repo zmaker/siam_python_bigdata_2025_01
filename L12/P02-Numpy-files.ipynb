{
 "cells": [
  {
   "cell_type": "markdown",
   "metadata": {},
   "source": [
    "importo un file di testo con dei numeri"
   ]
  },
  {
   "cell_type": "code",
   "execution_count": 1,
   "metadata": {},
   "outputs": [],
   "source": [
    "import numpy as np"
   ]
  },
  {
   "cell_type": "code",
   "execution_count": 2,
   "metadata": {},
   "outputs": [
    {
     "name": "stdout",
     "output_type": "stream",
     "text": [
      "[85. 79. 55. 58. 85. 31. 46. 58. 66. 70. 49. 66. 88. 38. 64. 54. 36. 86.\n",
      " 43. 41. 33. 71. 42. 79. 34. 81. 48. 58. 28. 23.]\n"
     ]
    }
   ],
   "source": [
    "lista = np.genfromtxt(\"numeri.txt\")\n",
    "print(lista)"
   ]
  },
  {
   "cell_type": "code",
   "execution_count": 3,
   "metadata": {},
   "outputs": [
    {
     "data": {
      "text/plain": [
       "dtype('float64')"
      ]
     },
     "execution_count": 3,
     "metadata": {},
     "output_type": "execute_result"
    }
   ],
   "source": [
    "lista.dtype"
   ]
  },
  {
   "cell_type": "code",
   "execution_count": 5,
   "metadata": {},
   "outputs": [
    {
     "data": {
      "text/plain": [
       "30"
      ]
     },
     "execution_count": 5,
     "metadata": {},
     "output_type": "execute_result"
    }
   ],
   "source": [
    "lista.size"
   ]
  },
  {
   "cell_type": "code",
   "execution_count": 6,
   "metadata": {},
   "outputs": [
    {
     "name": "stdout",
     "output_type": "stream",
     "text": [
      "min 23.0\n",
      "max 88.0\n",
      "media 56.5\n",
      "ptp 65.0\n",
      "sum 1695.0\n"
     ]
    }
   ],
   "source": [
    "print(\"min\", np.amin(lista))\n",
    "print(\"max\", np.amax(lista))\n",
    "print(\"media\", np.average(lista))\n",
    "print(\"ptp\", np.ptp(lista))\n",
    "print(\"sum\", np.sum(lista))"
   ]
  },
  {
   "cell_type": "code",
   "execution_count": 7,
   "metadata": {},
   "outputs": [
    {
     "name": "stdout",
     "output_type": "stream",
     "text": [
      "[93.5 86.9 60.5 63.8 93.5 34.1 50.6 63.8 72.6 77.  53.9 72.6 96.8 41.8\n",
      " 70.4 59.4 39.6 94.6 47.3 45.1 36.3 78.1 46.2 86.9 37.4 89.1 52.8 63.8\n",
      " 30.8 25.3]\n"
     ]
    }
   ],
   "source": [
    "lista2 = lista * 1.10\n",
    "print(lista2)"
   ]
  },
  {
   "cell_type": "code",
   "execution_count": 10,
   "metadata": {},
   "outputs": [],
   "source": [
    "np.savetxt(\"lista2.txt\", lista2, fmt='%0.3f')"
   ]
  },
  {
   "cell_type": "markdown",
   "metadata": {},
   "source": [
    "# lettura file CSV"
   ]
  },
  {
   "cell_type": "code",
   "execution_count": 13,
   "metadata": {},
   "outputs": [
    {
     "name": "stdout",
     "output_type": "stream",
     "text": [
      "[[100.   7.]\n",
      " [ 83.  21.]\n",
      " [ 77.  80.]\n",
      " [ 83.   6.]\n",
      " [ 96.  26.]\n",
      " [ 76.  69.]\n",
      " [ 29.  32.]\n",
      " [ 91.  25.]\n",
      " [ 59.  12.]\n",
      " [ 29.  18.]\n",
      " [  2.  34.]\n",
      " [ 44.  76.]\n",
      " [ 82.  22.]\n",
      " [ 38.  70.]\n",
      " [ 17.  20.]\n",
      " [ 24.  81.]\n",
      " [ 39.  99.]\n",
      " [ 40.  87.]\n",
      " [ 41.  32.]\n",
      " [100.  76.]]\n",
      "(20, 2)\n"
     ]
    }
   ],
   "source": [
    "num = np.loadtxt('numeri_casuali.csv', delimiter=',', skiprows=1)\n",
    "print(num)\n",
    "print(num.shape)"
   ]
  },
  {
   "cell_type": "code",
   "execution_count": 14,
   "metadata": {},
   "outputs": [],
   "source": [
    "np.save(\"dati\", num)"
   ]
  },
  {
   "cell_type": "code",
   "execution_count": 15,
   "metadata": {},
   "outputs": [
    {
     "name": "stdout",
     "output_type": "stream",
     "text": [
      "[[100.   7.]\n",
      " [ 83.  21.]\n",
      " [ 77.  80.]\n",
      " [ 83.   6.]\n",
      " [ 96.  26.]\n",
      " [ 76.  69.]\n",
      " [ 29.  32.]\n",
      " [ 91.  25.]\n",
      " [ 59.  12.]\n",
      " [ 29.  18.]\n",
      " [  2.  34.]\n",
      " [ 44.  76.]\n",
      " [ 82.  22.]\n",
      " [ 38.  70.]\n",
      " [ 17.  20.]\n",
      " [ 24.  81.]\n",
      " [ 39.  99.]\n",
      " [ 40.  87.]\n",
      " [ 41.  32.]\n",
      " [100.  76.]]\n"
     ]
    }
   ],
   "source": [
    "dati = np.load(\"dati.npy\")\n",
    "print(dati)"
   ]
  }
 ],
 "metadata": {
  "kernelspec": {
   "display_name": "Python 3",
   "language": "python",
   "name": "python3"
  },
  "language_info": {
   "codemirror_mode": {
    "name": "ipython",
    "version": 3
   },
   "file_extension": ".py",
   "mimetype": "text/x-python",
   "name": "python",
   "nbconvert_exporter": "python",
   "pygments_lexer": "ipython3",
   "version": "3.12.2"
  }
 },
 "nbformat": 4,
 "nbformat_minor": 2
}
