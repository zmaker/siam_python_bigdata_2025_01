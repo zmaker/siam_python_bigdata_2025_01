{
 "cells": [
  {
   "cell_type": "markdown",
   "metadata": {},
   "source": [
    "# Pandas\n",
    "https://pandas.pydata.org/\n"
   ]
  },
  {
   "cell_type": "code",
   "execution_count": 1,
   "metadata": {},
   "outputs": [],
   "source": [
    "import pandas as pd"
   ]
  },
  {
   "cell_type": "code",
   "execution_count": 4,
   "metadata": {},
   "outputs": [
    {
     "data": {
      "text/html": [
       "<div>\n",
       "<style scoped>\n",
       "    .dataframe tbody tr th:only-of-type {\n",
       "        vertical-align: middle;\n",
       "    }\n",
       "\n",
       "    .dataframe tbody tr th {\n",
       "        vertical-align: top;\n",
       "    }\n",
       "\n",
       "    .dataframe thead th {\n",
       "        text-align: right;\n",
       "    }\n",
       "</style>\n",
       "<table border=\"1\" class=\"dataframe\">\n",
       "  <thead>\n",
       "    <tr style=\"text-align: right;\">\n",
       "      <th></th>\n",
       "      <th>nome</th>\n",
       "      <th>cognome</th>\n",
       "      <th>peso</th>\n",
       "      <th>altezza</th>\n",
       "      <th>data_nascita</th>\n",
       "      <th>sesso</th>\n",
       "    </tr>\n",
       "  </thead>\n",
       "  <tbody>\n",
       "    <tr>\n",
       "      <th>0</th>\n",
       "      <td>Marco</td>\n",
       "      <td>Rossi</td>\n",
       "      <td>75.5</td>\n",
       "      <td>178</td>\n",
       "      <td>1990-01-15</td>\n",
       "      <td>M</td>\n",
       "    </tr>\n",
       "    <tr>\n",
       "      <th>1</th>\n",
       "      <td>Anna</td>\n",
       "      <td>Verdi</td>\n",
       "      <td>62.0</td>\n",
       "      <td>165</td>\n",
       "      <td>1995-03-20</td>\n",
       "      <td>F</td>\n",
       "    </tr>\n",
       "    <tr>\n",
       "      <th>2</th>\n",
       "      <td>Luca</td>\n",
       "      <td>Bianchi</td>\n",
       "      <td>80.0</td>\n",
       "      <td>182</td>\n",
       "      <td>1988-11-05</td>\n",
       "      <td>M</td>\n",
       "    </tr>\n",
       "    <tr>\n",
       "      <th>3</th>\n",
       "      <td>Sofia</td>\n",
       "      <td>Neri</td>\n",
       "      <td>58.0</td>\n",
       "      <td>160</td>\n",
       "      <td>1997-07-12</td>\n",
       "      <td>F</td>\n",
       "    </tr>\n",
       "    <tr>\n",
       "      <th>4</th>\n",
       "      <td>Davide</td>\n",
       "      <td>Gialli</td>\n",
       "      <td>72.0</td>\n",
       "      <td>175</td>\n",
       "      <td>1992-04-25</td>\n",
       "      <td>M</td>\n",
       "    </tr>\n",
       "    <tr>\n",
       "      <th>5</th>\n",
       "      <td>Sara</td>\n",
       "      <td>Rosa</td>\n",
       "      <td>60.0</td>\n",
       "      <td>163</td>\n",
       "      <td>1998-09-08</td>\n",
       "      <td>F</td>\n",
       "    </tr>\n",
       "    <tr>\n",
       "      <th>6</th>\n",
       "      <td>Andrea</td>\n",
       "      <td>Azzurri</td>\n",
       "      <td>78.0</td>\n",
       "      <td>180</td>\n",
       "      <td>1991-06-10</td>\n",
       "      <td>M</td>\n",
       "    </tr>\n",
       "    <tr>\n",
       "      <th>7</th>\n",
       "      <td>Chiara</td>\n",
       "      <td>Viola</td>\n",
       "      <td>55.0</td>\n",
       "      <td>158</td>\n",
       "      <td>1999-12-22</td>\n",
       "      <td>F</td>\n",
       "    </tr>\n",
       "    <tr>\n",
       "      <th>8</th>\n",
       "      <td>Matteo</td>\n",
       "      <td>Marroni</td>\n",
       "      <td>85.0</td>\n",
       "      <td>185</td>\n",
       "      <td>1987-02-18</td>\n",
       "      <td>M</td>\n",
       "    </tr>\n",
       "    <tr>\n",
       "      <th>9</th>\n",
       "      <td>Valentina</td>\n",
       "      <td>Arancioni</td>\n",
       "      <td>63.0</td>\n",
       "      <td>167</td>\n",
       "      <td>1994-05-15</td>\n",
       "      <td>F</td>\n",
       "    </tr>\n",
       "  </tbody>\n",
       "</table>\n",
       "</div>"
      ],
      "text/plain": [
       "        nome    cognome  peso  altezza data_nascita sesso\n",
       "0      Marco      Rossi  75.5      178   1990-01-15     M\n",
       "1       Anna      Verdi  62.0      165   1995-03-20     F\n",
       "2       Luca    Bianchi  80.0      182   1988-11-05     M\n",
       "3      Sofia       Neri  58.0      160   1997-07-12     F\n",
       "4     Davide     Gialli  72.0      175   1992-04-25     M\n",
       "5       Sara       Rosa  60.0      163   1998-09-08     F\n",
       "6     Andrea    Azzurri  78.0      180   1991-06-10     M\n",
       "7     Chiara      Viola  55.0      158   1999-12-22     F\n",
       "8     Matteo    Marroni  85.0      185   1987-02-18     M\n",
       "9  Valentina  Arancioni  63.0      167   1994-05-15     F"
      ]
     },
     "execution_count": 4,
     "metadata": {},
     "output_type": "execute_result"
    }
   ],
   "source": [
    "tab = pd.read_csv('persone.csv', delimiter=',')\n",
    "tab"
   ]
  },
  {
   "cell_type": "code",
   "execution_count": 5,
   "metadata": {},
   "outputs": [
    {
     "data": {
      "text/html": [
       "<div>\n",
       "<style scoped>\n",
       "    .dataframe tbody tr th:only-of-type {\n",
       "        vertical-align: middle;\n",
       "    }\n",
       "\n",
       "    .dataframe tbody tr th {\n",
       "        vertical-align: top;\n",
       "    }\n",
       "\n",
       "    .dataframe thead th {\n",
       "        text-align: right;\n",
       "    }\n",
       "</style>\n",
       "<table border=\"1\" class=\"dataframe\">\n",
       "  <thead>\n",
       "    <tr style=\"text-align: right;\">\n",
       "      <th></th>\n",
       "      <th>cognome</th>\n",
       "      <th>nome</th>\n",
       "    </tr>\n",
       "  </thead>\n",
       "  <tbody>\n",
       "    <tr>\n",
       "      <th>0</th>\n",
       "      <td>Rossi</td>\n",
       "      <td>Marco</td>\n",
       "    </tr>\n",
       "    <tr>\n",
       "      <th>1</th>\n",
       "      <td>Verdi</td>\n",
       "      <td>Anna</td>\n",
       "    </tr>\n",
       "    <tr>\n",
       "      <th>2</th>\n",
       "      <td>Bianchi</td>\n",
       "      <td>Luca</td>\n",
       "    </tr>\n",
       "    <tr>\n",
       "      <th>3</th>\n",
       "      <td>Neri</td>\n",
       "      <td>Sofia</td>\n",
       "    </tr>\n",
       "    <tr>\n",
       "      <th>4</th>\n",
       "      <td>Gialli</td>\n",
       "      <td>Davide</td>\n",
       "    </tr>\n",
       "    <tr>\n",
       "      <th>5</th>\n",
       "      <td>Rosa</td>\n",
       "      <td>Sara</td>\n",
       "    </tr>\n",
       "    <tr>\n",
       "      <th>6</th>\n",
       "      <td>Azzurri</td>\n",
       "      <td>Andrea</td>\n",
       "    </tr>\n",
       "    <tr>\n",
       "      <th>7</th>\n",
       "      <td>Viola</td>\n",
       "      <td>Chiara</td>\n",
       "    </tr>\n",
       "    <tr>\n",
       "      <th>8</th>\n",
       "      <td>Marroni</td>\n",
       "      <td>Matteo</td>\n",
       "    </tr>\n",
       "    <tr>\n",
       "      <th>9</th>\n",
       "      <td>Arancioni</td>\n",
       "      <td>Valentina</td>\n",
       "    </tr>\n",
       "  </tbody>\n",
       "</table>\n",
       "</div>"
      ],
      "text/plain": [
       "     cognome       nome\n",
       "0      Rossi      Marco\n",
       "1      Verdi       Anna\n",
       "2    Bianchi       Luca\n",
       "3       Neri      Sofia\n",
       "4     Gialli     Davide\n",
       "5       Rosa       Sara\n",
       "6    Azzurri     Andrea\n",
       "7      Viola     Chiara\n",
       "8    Marroni     Matteo\n",
       "9  Arancioni  Valentina"
      ]
     },
     "execution_count": 5,
     "metadata": {},
     "output_type": "execute_result"
    }
   ],
   "source": [
    "tab2 = tab[['cognome', 'nome']]\n",
    "tab2"
   ]
  },
  {
   "cell_type": "code",
   "execution_count": 6,
   "metadata": {},
   "outputs": [
    {
     "data": {
      "text/html": [
       "<div>\n",
       "<style scoped>\n",
       "    .dataframe tbody tr th:only-of-type {\n",
       "        vertical-align: middle;\n",
       "    }\n",
       "\n",
       "    .dataframe tbody tr th {\n",
       "        vertical-align: top;\n",
       "    }\n",
       "\n",
       "    .dataframe thead th {\n",
       "        text-align: right;\n",
       "    }\n",
       "</style>\n",
       "<table border=\"1\" class=\"dataframe\">\n",
       "  <thead>\n",
       "    <tr style=\"text-align: right;\">\n",
       "      <th></th>\n",
       "      <th>cognome</th>\n",
       "      <th>nome</th>\n",
       "    </tr>\n",
       "  </thead>\n",
       "  <tbody>\n",
       "    <tr>\n",
       "      <th>9</th>\n",
       "      <td>Arancioni</td>\n",
       "      <td>Valentina</td>\n",
       "    </tr>\n",
       "    <tr>\n",
       "      <th>6</th>\n",
       "      <td>Azzurri</td>\n",
       "      <td>Andrea</td>\n",
       "    </tr>\n",
       "    <tr>\n",
       "      <th>2</th>\n",
       "      <td>Bianchi</td>\n",
       "      <td>Luca</td>\n",
       "    </tr>\n",
       "    <tr>\n",
       "      <th>4</th>\n",
       "      <td>Gialli</td>\n",
       "      <td>Davide</td>\n",
       "    </tr>\n",
       "    <tr>\n",
       "      <th>8</th>\n",
       "      <td>Marroni</td>\n",
       "      <td>Matteo</td>\n",
       "    </tr>\n",
       "    <tr>\n",
       "      <th>3</th>\n",
       "      <td>Neri</td>\n",
       "      <td>Sofia</td>\n",
       "    </tr>\n",
       "    <tr>\n",
       "      <th>5</th>\n",
       "      <td>Rosa</td>\n",
       "      <td>Sara</td>\n",
       "    </tr>\n",
       "    <tr>\n",
       "      <th>0</th>\n",
       "      <td>Rossi</td>\n",
       "      <td>Marco</td>\n",
       "    </tr>\n",
       "    <tr>\n",
       "      <th>1</th>\n",
       "      <td>Verdi</td>\n",
       "      <td>Anna</td>\n",
       "    </tr>\n",
       "    <tr>\n",
       "      <th>7</th>\n",
       "      <td>Viola</td>\n",
       "      <td>Chiara</td>\n",
       "    </tr>\n",
       "  </tbody>\n",
       "</table>\n",
       "</div>"
      ],
      "text/plain": [
       "     cognome       nome\n",
       "9  Arancioni  Valentina\n",
       "6    Azzurri     Andrea\n",
       "2    Bianchi       Luca\n",
       "4     Gialli     Davide\n",
       "8    Marroni     Matteo\n",
       "3       Neri      Sofia\n",
       "5       Rosa       Sara\n",
       "0      Rossi      Marco\n",
       "1      Verdi       Anna\n",
       "7      Viola     Chiara"
      ]
     },
     "execution_count": 6,
     "metadata": {},
     "output_type": "execute_result"
    }
   ],
   "source": [
    "tab3 = tab2.sort_values(by='cognome')\n",
    "tab3"
   ]
  },
  {
   "cell_type": "code",
   "execution_count": 7,
   "metadata": {},
   "outputs": [
    {
     "data": {
      "text/html": [
       "<div>\n",
       "<style scoped>\n",
       "    .dataframe tbody tr th:only-of-type {\n",
       "        vertical-align: middle;\n",
       "    }\n",
       "\n",
       "    .dataframe tbody tr th {\n",
       "        vertical-align: top;\n",
       "    }\n",
       "\n",
       "    .dataframe thead th {\n",
       "        text-align: right;\n",
       "    }\n",
       "</style>\n",
       "<table border=\"1\" class=\"dataframe\">\n",
       "  <thead>\n",
       "    <tr style=\"text-align: right;\">\n",
       "      <th></th>\n",
       "      <th>nome</th>\n",
       "      <th>cognome</th>\n",
       "      <th>peso</th>\n",
       "      <th>altezza</th>\n",
       "      <th>data_nascita</th>\n",
       "      <th>sesso</th>\n",
       "    </tr>\n",
       "  </thead>\n",
       "  <tbody>\n",
       "    <tr>\n",
       "      <th>0</th>\n",
       "      <td>Marco</td>\n",
       "      <td>Rossi</td>\n",
       "      <td>75.5</td>\n",
       "      <td>178</td>\n",
       "      <td>1990-01-15</td>\n",
       "      <td>M</td>\n",
       "    </tr>\n",
       "    <tr>\n",
       "      <th>1</th>\n",
       "      <td>Anna</td>\n",
       "      <td>Verdi</td>\n",
       "      <td>62.0</td>\n",
       "      <td>165</td>\n",
       "      <td>1995-03-20</td>\n",
       "      <td>F</td>\n",
       "    </tr>\n",
       "    <tr>\n",
       "      <th>2</th>\n",
       "      <td>Luca</td>\n",
       "      <td>Bianchi</td>\n",
       "      <td>80.0</td>\n",
       "      <td>182</td>\n",
       "      <td>1988-11-05</td>\n",
       "      <td>M</td>\n",
       "    </tr>\n",
       "    <tr>\n",
       "      <th>3</th>\n",
       "      <td>Sofia</td>\n",
       "      <td>Neri</td>\n",
       "      <td>58.0</td>\n",
       "      <td>160</td>\n",
       "      <td>1997-07-12</td>\n",
       "      <td>F</td>\n",
       "    </tr>\n",
       "    <tr>\n",
       "      <th>4</th>\n",
       "      <td>Davide</td>\n",
       "      <td>Gialli</td>\n",
       "      <td>72.0</td>\n",
       "      <td>175</td>\n",
       "      <td>1992-04-25</td>\n",
       "      <td>M</td>\n",
       "    </tr>\n",
       "  </tbody>\n",
       "</table>\n",
       "</div>"
      ],
      "text/plain": [
       "     nome  cognome  peso  altezza data_nascita sesso\n",
       "0   Marco    Rossi  75.5      178   1990-01-15     M\n",
       "1    Anna    Verdi  62.0      165   1995-03-20     F\n",
       "2    Luca  Bianchi  80.0      182   1988-11-05     M\n",
       "3   Sofia     Neri  58.0      160   1997-07-12     F\n",
       "4  Davide   Gialli  72.0      175   1992-04-25     M"
      ]
     },
     "execution_count": 7,
     "metadata": {},
     "output_type": "execute_result"
    }
   ],
   "source": [
    "tab.head()"
   ]
  },
  {
   "cell_type": "code",
   "execution_count": 8,
   "metadata": {},
   "outputs": [
    {
     "data": {
      "text/html": [
       "<div>\n",
       "<style scoped>\n",
       "    .dataframe tbody tr th:only-of-type {\n",
       "        vertical-align: middle;\n",
       "    }\n",
       "\n",
       "    .dataframe tbody tr th {\n",
       "        vertical-align: top;\n",
       "    }\n",
       "\n",
       "    .dataframe thead th {\n",
       "        text-align: right;\n",
       "    }\n",
       "</style>\n",
       "<table border=\"1\" class=\"dataframe\">\n",
       "  <thead>\n",
       "    <tr style=\"text-align: right;\">\n",
       "      <th></th>\n",
       "      <th>nome</th>\n",
       "      <th>cognome</th>\n",
       "      <th>peso</th>\n",
       "      <th>altezza</th>\n",
       "      <th>data_nascita</th>\n",
       "      <th>sesso</th>\n",
       "    </tr>\n",
       "  </thead>\n",
       "  <tbody>\n",
       "    <tr>\n",
       "      <th>9</th>\n",
       "      <td>Valentina</td>\n",
       "      <td>Arancioni</td>\n",
       "      <td>63.0</td>\n",
       "      <td>167</td>\n",
       "      <td>1994-05-15</td>\n",
       "      <td>F</td>\n",
       "    </tr>\n",
       "    <tr>\n",
       "      <th>6</th>\n",
       "      <td>Andrea</td>\n",
       "      <td>Azzurri</td>\n",
       "      <td>78.0</td>\n",
       "      <td>180</td>\n",
       "      <td>1991-06-10</td>\n",
       "      <td>M</td>\n",
       "    </tr>\n",
       "    <tr>\n",
       "      <th>2</th>\n",
       "      <td>Luca</td>\n",
       "      <td>Bianchi</td>\n",
       "      <td>80.0</td>\n",
       "      <td>182</td>\n",
       "      <td>1988-11-05</td>\n",
       "      <td>M</td>\n",
       "    </tr>\n",
       "    <tr>\n",
       "      <th>4</th>\n",
       "      <td>Davide</td>\n",
       "      <td>Gialli</td>\n",
       "      <td>72.0</td>\n",
       "      <td>175</td>\n",
       "      <td>1992-04-25</td>\n",
       "      <td>M</td>\n",
       "    </tr>\n",
       "    <tr>\n",
       "      <th>8</th>\n",
       "      <td>Matteo</td>\n",
       "      <td>Marroni</td>\n",
       "      <td>85.0</td>\n",
       "      <td>185</td>\n",
       "      <td>1987-02-18</td>\n",
       "      <td>M</td>\n",
       "    </tr>\n",
       "  </tbody>\n",
       "</table>\n",
       "</div>"
      ],
      "text/plain": [
       "        nome    cognome  peso  altezza data_nascita sesso\n",
       "9  Valentina  Arancioni  63.0      167   1994-05-15     F\n",
       "6     Andrea    Azzurri  78.0      180   1991-06-10     M\n",
       "2       Luca    Bianchi  80.0      182   1988-11-05     M\n",
       "4     Davide     Gialli  72.0      175   1992-04-25     M\n",
       "8     Matteo    Marroni  85.0      185   1987-02-18     M"
      ]
     },
     "execution_count": 8,
     "metadata": {},
     "output_type": "execute_result"
    }
   ],
   "source": [
    "tab4 = tab.sort_values(by='cognome')\n",
    "tab4.head()"
   ]
  },
  {
   "cell_type": "code",
   "execution_count": 10,
   "metadata": {},
   "outputs": [
    {
     "name": "stdout",
     "output_type": "stream",
     "text": [
      "nome                Andrea\n",
      "cognome            Azzurri\n",
      "peso                  78.0\n",
      "altezza                180\n",
      "data_nascita    1991-06-10\n",
      "sesso                    M\n",
      "Name: 6, dtype: object\n"
     ]
    }
   ],
   "source": [
    "#accedo usando l'indice/chiave della riga\n",
    "print(tab4.loc[6])"
   ]
  },
  {
   "cell_type": "code",
   "execution_count": 11,
   "metadata": {},
   "outputs": [
    {
     "name": "stdout",
     "output_type": "stream",
     "text": [
      "nome             Valentina\n",
      "cognome          Arancioni\n",
      "peso                  63.0\n",
      "altezza                167\n",
      "data_nascita    1994-05-15\n",
      "sesso                    F\n",
      "Name: 9, dtype: object\n"
     ]
    }
   ],
   "source": [
    "#accedo per posizione di riga / numero di riga\n",
    "print(tab4.iloc[0])"
   ]
  },
  {
   "cell_type": "markdown",
   "metadata": {},
   "source": [
    "Con loc e iloc posso usare lo slicing"
   ]
  },
  {
   "cell_type": "code",
   "execution_count": 12,
   "metadata": {},
   "outputs": [
    {
     "data": {
      "text/html": [
       "<div>\n",
       "<style scoped>\n",
       "    .dataframe tbody tr th:only-of-type {\n",
       "        vertical-align: middle;\n",
       "    }\n",
       "\n",
       "    .dataframe tbody tr th {\n",
       "        vertical-align: top;\n",
       "    }\n",
       "\n",
       "    .dataframe thead th {\n",
       "        text-align: right;\n",
       "    }\n",
       "</style>\n",
       "<table border=\"1\" class=\"dataframe\">\n",
       "  <thead>\n",
       "    <tr style=\"text-align: right;\">\n",
       "      <th></th>\n",
       "      <th>nome</th>\n",
       "      <th>cognome</th>\n",
       "      <th>peso</th>\n",
       "      <th>altezza</th>\n",
       "      <th>data_nascita</th>\n",
       "      <th>sesso</th>\n",
       "    </tr>\n",
       "  </thead>\n",
       "  <tbody>\n",
       "    <tr>\n",
       "      <th>9</th>\n",
       "      <td>Valentina</td>\n",
       "      <td>Arancioni</td>\n",
       "      <td>63.0</td>\n",
       "      <td>167</td>\n",
       "      <td>1994-05-15</td>\n",
       "      <td>F</td>\n",
       "    </tr>\n",
       "    <tr>\n",
       "      <th>6</th>\n",
       "      <td>Andrea</td>\n",
       "      <td>Azzurri</td>\n",
       "      <td>78.0</td>\n",
       "      <td>180</td>\n",
       "      <td>1991-06-10</td>\n",
       "      <td>M</td>\n",
       "    </tr>\n",
       "    <tr>\n",
       "      <th>2</th>\n",
       "      <td>Luca</td>\n",
       "      <td>Bianchi</td>\n",
       "      <td>80.0</td>\n",
       "      <td>182</td>\n",
       "      <td>1988-11-05</td>\n",
       "      <td>M</td>\n",
       "    </tr>\n",
       "  </tbody>\n",
       "</table>\n",
       "</div>"
      ],
      "text/plain": [
       "        nome    cognome  peso  altezza data_nascita sesso\n",
       "9  Valentina  Arancioni  63.0      167   1994-05-15     F\n",
       "6     Andrea    Azzurri  78.0      180   1991-06-10     M\n",
       "2       Luca    Bianchi  80.0      182   1988-11-05     M"
      ]
     },
     "execution_count": 12,
     "metadata": {},
     "output_type": "execute_result"
    }
   ],
   "source": [
    "tab5 = tab4.iloc[0:3]\n",
    "tab5"
   ]
  },
  {
   "cell_type": "code",
   "execution_count": 15,
   "metadata": {},
   "outputs": [
    {
     "data": {
      "text/html": [
       "<div>\n",
       "<style scoped>\n",
       "    .dataframe tbody tr th:only-of-type {\n",
       "        vertical-align: middle;\n",
       "    }\n",
       "\n",
       "    .dataframe tbody tr th {\n",
       "        vertical-align: top;\n",
       "    }\n",
       "\n",
       "    .dataframe thead th {\n",
       "        text-align: right;\n",
       "    }\n",
       "</style>\n",
       "<table border=\"1\" class=\"dataframe\">\n",
       "  <thead>\n",
       "    <tr style=\"text-align: right;\">\n",
       "      <th></th>\n",
       "      <th>nome</th>\n",
       "      <th>cognome</th>\n",
       "      <th>peso</th>\n",
       "      <th>altezza</th>\n",
       "      <th>data_nascita</th>\n",
       "      <th>sesso</th>\n",
       "    </tr>\n",
       "  </thead>\n",
       "  <tbody>\n",
       "    <tr>\n",
       "      <th>0</th>\n",
       "      <td>Marco</td>\n",
       "      <td>Rossi</td>\n",
       "      <td>75.5</td>\n",
       "      <td>178</td>\n",
       "      <td>1990-01-15</td>\n",
       "      <td>M</td>\n",
       "    </tr>\n",
       "    <tr>\n",
       "      <th>1</th>\n",
       "      <td>Anna</td>\n",
       "      <td>Verdi</td>\n",
       "      <td>62.0</td>\n",
       "      <td>165</td>\n",
       "      <td>1995-03-20</td>\n",
       "      <td>F</td>\n",
       "    </tr>\n",
       "    <tr>\n",
       "      <th>2</th>\n",
       "      <td>Luca</td>\n",
       "      <td>Bianchi</td>\n",
       "      <td>80.0</td>\n",
       "      <td>182</td>\n",
       "      <td>1988-11-05</td>\n",
       "      <td>M</td>\n",
       "    </tr>\n",
       "    <tr>\n",
       "      <th>3</th>\n",
       "      <td>Sofia</td>\n",
       "      <td>Neri</td>\n",
       "      <td>58.0</td>\n",
       "      <td>160</td>\n",
       "      <td>1997-07-12</td>\n",
       "      <td>F</td>\n",
       "    </tr>\n",
       "  </tbody>\n",
       "</table>\n",
       "</div>"
      ],
      "text/plain": [
       "    nome  cognome  peso  altezza data_nascita sesso\n",
       "0  Marco    Rossi  75.5      178   1990-01-15     M\n",
       "1   Anna    Verdi  62.0      165   1995-03-20     F\n",
       "2   Luca  Bianchi  80.0      182   1988-11-05     M\n",
       "3  Sofia     Neri  58.0      160   1997-07-12     F"
      ]
     },
     "execution_count": 15,
     "metadata": {},
     "output_type": "execute_result"
    }
   ],
   "source": [
    "tab6 = tab4.loc[range(0,4)]\n",
    "tab6"
   ]
  },
  {
   "cell_type": "markdown",
   "metadata": {},
   "source": [
    "## selezioni\n"
   ]
  },
  {
   "cell_type": "code",
   "execution_count": 16,
   "metadata": {},
   "outputs": [
    {
     "data": {
      "text/html": [
       "<div>\n",
       "<style scoped>\n",
       "    .dataframe tbody tr th:only-of-type {\n",
       "        vertical-align: middle;\n",
       "    }\n",
       "\n",
       "    .dataframe tbody tr th {\n",
       "        vertical-align: top;\n",
       "    }\n",
       "\n",
       "    .dataframe thead th {\n",
       "        text-align: right;\n",
       "    }\n",
       "</style>\n",
       "<table border=\"1\" class=\"dataframe\">\n",
       "  <thead>\n",
       "    <tr style=\"text-align: right;\">\n",
       "      <th></th>\n",
       "      <th>nome</th>\n",
       "      <th>cognome</th>\n",
       "      <th>peso</th>\n",
       "      <th>altezza</th>\n",
       "      <th>data_nascita</th>\n",
       "      <th>sesso</th>\n",
       "    </tr>\n",
       "  </thead>\n",
       "  <tbody>\n",
       "    <tr>\n",
       "      <th>1</th>\n",
       "      <td>Anna</td>\n",
       "      <td>Verdi</td>\n",
       "      <td>62.0</td>\n",
       "      <td>165</td>\n",
       "      <td>1995-03-20</td>\n",
       "      <td>F</td>\n",
       "    </tr>\n",
       "    <tr>\n",
       "      <th>3</th>\n",
       "      <td>Sofia</td>\n",
       "      <td>Neri</td>\n",
       "      <td>58.0</td>\n",
       "      <td>160</td>\n",
       "      <td>1997-07-12</td>\n",
       "      <td>F</td>\n",
       "    </tr>\n",
       "    <tr>\n",
       "      <th>5</th>\n",
       "      <td>Sara</td>\n",
       "      <td>Rosa</td>\n",
       "      <td>60.0</td>\n",
       "      <td>163</td>\n",
       "      <td>1998-09-08</td>\n",
       "      <td>F</td>\n",
       "    </tr>\n",
       "    <tr>\n",
       "      <th>7</th>\n",
       "      <td>Chiara</td>\n",
       "      <td>Viola</td>\n",
       "      <td>55.0</td>\n",
       "      <td>158</td>\n",
       "      <td>1999-12-22</td>\n",
       "      <td>F</td>\n",
       "    </tr>\n",
       "    <tr>\n",
       "      <th>9</th>\n",
       "      <td>Valentina</td>\n",
       "      <td>Arancioni</td>\n",
       "      <td>63.0</td>\n",
       "      <td>167</td>\n",
       "      <td>1994-05-15</td>\n",
       "      <td>F</td>\n",
       "    </tr>\n",
       "  </tbody>\n",
       "</table>\n",
       "</div>"
      ],
      "text/plain": [
       "        nome    cognome  peso  altezza data_nascita sesso\n",
       "1       Anna      Verdi  62.0      165   1995-03-20     F\n",
       "3      Sofia       Neri  58.0      160   1997-07-12     F\n",
       "5       Sara       Rosa  60.0      163   1998-09-08     F\n",
       "7     Chiara      Viola  55.0      158   1999-12-22     F\n",
       "9  Valentina  Arancioni  63.0      167   1994-05-15     F"
      ]
     },
     "execution_count": 16,
     "metadata": {},
     "output_type": "execute_result"
    }
   ],
   "source": [
    "tab[tab.sesso == 'F']"
   ]
  },
  {
   "cell_type": "code",
   "execution_count": 17,
   "metadata": {},
   "outputs": [
    {
     "data": {
      "text/html": [
       "<div>\n",
       "<style scoped>\n",
       "    .dataframe tbody tr th:only-of-type {\n",
       "        vertical-align: middle;\n",
       "    }\n",
       "\n",
       "    .dataframe tbody tr th {\n",
       "        vertical-align: top;\n",
       "    }\n",
       "\n",
       "    .dataframe thead th {\n",
       "        text-align: right;\n",
       "    }\n",
       "</style>\n",
       "<table border=\"1\" class=\"dataframe\">\n",
       "  <thead>\n",
       "    <tr style=\"text-align: right;\">\n",
       "      <th></th>\n",
       "      <th>nome</th>\n",
       "      <th>cognome</th>\n",
       "      <th>peso</th>\n",
       "      <th>altezza</th>\n",
       "      <th>data_nascita</th>\n",
       "      <th>sesso</th>\n",
       "    </tr>\n",
       "  </thead>\n",
       "  <tbody>\n",
       "    <tr>\n",
       "      <th>0</th>\n",
       "      <td>Marco</td>\n",
       "      <td>Rossi</td>\n",
       "      <td>75.5</td>\n",
       "      <td>178</td>\n",
       "      <td>1990-01-15</td>\n",
       "      <td>M</td>\n",
       "    </tr>\n",
       "    <tr>\n",
       "      <th>2</th>\n",
       "      <td>Luca</td>\n",
       "      <td>Bianchi</td>\n",
       "      <td>80.0</td>\n",
       "      <td>182</td>\n",
       "      <td>1988-11-05</td>\n",
       "      <td>M</td>\n",
       "    </tr>\n",
       "    <tr>\n",
       "      <th>4</th>\n",
       "      <td>Davide</td>\n",
       "      <td>Gialli</td>\n",
       "      <td>72.0</td>\n",
       "      <td>175</td>\n",
       "      <td>1992-04-25</td>\n",
       "      <td>M</td>\n",
       "    </tr>\n",
       "    <tr>\n",
       "      <th>6</th>\n",
       "      <td>Andrea</td>\n",
       "      <td>Azzurri</td>\n",
       "      <td>78.0</td>\n",
       "      <td>180</td>\n",
       "      <td>1991-06-10</td>\n",
       "      <td>M</td>\n",
       "    </tr>\n",
       "    <tr>\n",
       "      <th>8</th>\n",
       "      <td>Matteo</td>\n",
       "      <td>Marroni</td>\n",
       "      <td>85.0</td>\n",
       "      <td>185</td>\n",
       "      <td>1987-02-18</td>\n",
       "      <td>M</td>\n",
       "    </tr>\n",
       "  </tbody>\n",
       "</table>\n",
       "</div>"
      ],
      "text/plain": [
       "     nome  cognome  peso  altezza data_nascita sesso\n",
       "0   Marco    Rossi  75.5      178   1990-01-15     M\n",
       "2    Luca  Bianchi  80.0      182   1988-11-05     M\n",
       "4  Davide   Gialli  72.0      175   1992-04-25     M\n",
       "6  Andrea  Azzurri  78.0      180   1991-06-10     M\n",
       "8  Matteo  Marroni  85.0      185   1987-02-18     M"
      ]
     },
     "execution_count": 17,
     "metadata": {},
     "output_type": "execute_result"
    }
   ],
   "source": [
    "tab[(tab.altezza > 1.70) & (tab.peso > 70)]"
   ]
  },
  {
   "cell_type": "markdown",
   "metadata": {},
   "source": [
    "# Manipolare dati, righe e colonne"
   ]
  },
  {
   "cell_type": "markdown",
   "metadata": {},
   "source": [
    "creo una tabella \"al volo\""
   ]
  },
  {
   "cell_type": "code",
   "execution_count": 20,
   "metadata": {},
   "outputs": [
    {
     "data": {
      "text/html": [
       "<div>\n",
       "<style scoped>\n",
       "    .dataframe tbody tr th:only-of-type {\n",
       "        vertical-align: middle;\n",
       "    }\n",
       "\n",
       "    .dataframe tbody tr th {\n",
       "        vertical-align: top;\n",
       "    }\n",
       "\n",
       "    .dataframe thead th {\n",
       "        text-align: right;\n",
       "    }\n",
       "</style>\n",
       "<table border=\"1\" class=\"dataframe\">\n",
       "  <thead>\n",
       "    <tr style=\"text-align: right;\">\n",
       "      <th></th>\n",
       "      <th>frutta</th>\n",
       "      <th>qta</th>\n",
       "    </tr>\n",
       "  </thead>\n",
       "  <tbody>\n",
       "    <tr>\n",
       "      <th>1</th>\n",
       "      <td>mele</td>\n",
       "      <td>10</td>\n",
       "    </tr>\n",
       "    <tr>\n",
       "      <th>2</th>\n",
       "      <td>pere</td>\n",
       "      <td>20</td>\n",
       "    </tr>\n",
       "    <tr>\n",
       "      <th>3</th>\n",
       "      <td>kiwi</td>\n",
       "      <td>30</td>\n",
       "    </tr>\n",
       "    <tr>\n",
       "      <th>9</th>\n",
       "      <td>banane</td>\n",
       "      <td>40</td>\n",
       "    </tr>\n",
       "  </tbody>\n",
       "</table>\n",
       "</div>"
      ],
      "text/plain": [
       "   frutta  qta\n",
       "1    mele   10\n",
       "2    pere   20\n",
       "3    kiwi   30\n",
       "9  banane   40"
      ]
     },
     "execution_count": 20,
     "metadata": {},
     "output_type": "execute_result"
    }
   ],
   "source": [
    "#creo le colonne con i dati\n",
    "fruit = pd.Series(index=[1,2,3,9], data=['mele', 'pere', 'kiwi', 'banane'])\n",
    "magazzino = pd.Series(index=[1,2,3,9], data=[10,20,30,40])\n",
    "#combino le colonne in un dataframe\n",
    "shop = pd.DataFrame({'frutta':fruit, 'qta':magazzino})\n",
    "shop"
   ]
  },
  {
   "cell_type": "markdown",
   "metadata": {},
   "source": [
    "modifico una riga accedendo con la chiave (loc)"
   ]
  },
  {
   "cell_type": "code",
   "execution_count": 21,
   "metadata": {},
   "outputs": [
    {
     "data": {
      "text/html": [
       "<div>\n",
       "<style scoped>\n",
       "    .dataframe tbody tr th:only-of-type {\n",
       "        vertical-align: middle;\n",
       "    }\n",
       "\n",
       "    .dataframe tbody tr th {\n",
       "        vertical-align: top;\n",
       "    }\n",
       "\n",
       "    .dataframe thead th {\n",
       "        text-align: right;\n",
       "    }\n",
       "</style>\n",
       "<table border=\"1\" class=\"dataframe\">\n",
       "  <thead>\n",
       "    <tr style=\"text-align: right;\">\n",
       "      <th></th>\n",
       "      <th>frutta</th>\n",
       "      <th>qta</th>\n",
       "    </tr>\n",
       "  </thead>\n",
       "  <tbody>\n",
       "    <tr>\n",
       "      <th>1</th>\n",
       "      <td>mele</td>\n",
       "      <td>10</td>\n",
       "    </tr>\n",
       "    <tr>\n",
       "      <th>2</th>\n",
       "      <td>pere</td>\n",
       "      <td>20</td>\n",
       "    </tr>\n",
       "    <tr>\n",
       "      <th>3</th>\n",
       "      <td>kiwi</td>\n",
       "      <td>30</td>\n",
       "    </tr>\n",
       "    <tr>\n",
       "      <th>9</th>\n",
       "      <td>banane</td>\n",
       "      <td>100</td>\n",
       "    </tr>\n",
       "  </tbody>\n",
       "</table>\n",
       "</div>"
      ],
      "text/plain": [
       "   frutta  qta\n",
       "1    mele   10\n",
       "2    pere   20\n",
       "3    kiwi   30\n",
       "9  banane  100"
      ]
     },
     "execution_count": 21,
     "metadata": {},
     "output_type": "execute_result"
    }
   ],
   "source": [
    "shop.loc[9] = ['banane', 100]\n",
    "shop"
   ]
  },
  {
   "cell_type": "markdown",
   "metadata": {},
   "source": [
    "Se specifico una riga con indice \"inesistente\", la riga è aggiunta alla tabella"
   ]
  },
  {
   "cell_type": "code",
   "execution_count": 23,
   "metadata": {},
   "outputs": [
    {
     "data": {
      "text/html": [
       "<div>\n",
       "<style scoped>\n",
       "    .dataframe tbody tr th:only-of-type {\n",
       "        vertical-align: middle;\n",
       "    }\n",
       "\n",
       "    .dataframe tbody tr th {\n",
       "        vertical-align: top;\n",
       "    }\n",
       "\n",
       "    .dataframe thead th {\n",
       "        text-align: right;\n",
       "    }\n",
       "</style>\n",
       "<table border=\"1\" class=\"dataframe\">\n",
       "  <thead>\n",
       "    <tr style=\"text-align: right;\">\n",
       "      <th></th>\n",
       "      <th>frutta</th>\n",
       "      <th>qta</th>\n",
       "    </tr>\n",
       "  </thead>\n",
       "  <tbody>\n",
       "    <tr>\n",
       "      <th>1</th>\n",
       "      <td>mele</td>\n",
       "      <td>10</td>\n",
       "    </tr>\n",
       "    <tr>\n",
       "      <th>2</th>\n",
       "      <td>pere</td>\n",
       "      <td>20</td>\n",
       "    </tr>\n",
       "    <tr>\n",
       "      <th>3</th>\n",
       "      <td>kiwi</td>\n",
       "      <td>30</td>\n",
       "    </tr>\n",
       "    <tr>\n",
       "      <th>9</th>\n",
       "      <td>banane</td>\n",
       "      <td>100</td>\n",
       "    </tr>\n",
       "    <tr>\n",
       "      <th>20</th>\n",
       "      <td>pomodori</td>\n",
       "      <td>123</td>\n",
       "    </tr>\n",
       "  </tbody>\n",
       "</table>\n",
       "</div>"
      ],
      "text/plain": [
       "      frutta  qta\n",
       "1       mele   10\n",
       "2       pere   20\n",
       "3       kiwi   30\n",
       "9     banane  100\n",
       "20  pomodori  123"
      ]
     },
     "execution_count": 23,
     "metadata": {},
     "output_type": "execute_result"
    }
   ],
   "source": [
    "shop.loc[20] = ['pomodori', 123]\n",
    "shop"
   ]
  },
  {
   "cell_type": "markdown",
   "metadata": {},
   "source": [
    "Cancello una riga"
   ]
  },
  {
   "cell_type": "code",
   "execution_count": 25,
   "metadata": {},
   "outputs": [
    {
     "data": {
      "text/html": [
       "<div>\n",
       "<style scoped>\n",
       "    .dataframe tbody tr th:only-of-type {\n",
       "        vertical-align: middle;\n",
       "    }\n",
       "\n",
       "    .dataframe tbody tr th {\n",
       "        vertical-align: top;\n",
       "    }\n",
       "\n",
       "    .dataframe thead th {\n",
       "        text-align: right;\n",
       "    }\n",
       "</style>\n",
       "<table border=\"1\" class=\"dataframe\">\n",
       "  <thead>\n",
       "    <tr style=\"text-align: right;\">\n",
       "      <th></th>\n",
       "      <th>frutta</th>\n",
       "      <th>qta</th>\n",
       "    </tr>\n",
       "  </thead>\n",
       "  <tbody>\n",
       "    <tr>\n",
       "      <th>1</th>\n",
       "      <td>mele</td>\n",
       "      <td>10</td>\n",
       "    </tr>\n",
       "    <tr>\n",
       "      <th>2</th>\n",
       "      <td>pere</td>\n",
       "      <td>20</td>\n",
       "    </tr>\n",
       "    <tr>\n",
       "      <th>3</th>\n",
       "      <td>kiwi</td>\n",
       "      <td>30</td>\n",
       "    </tr>\n",
       "    <tr>\n",
       "      <th>9</th>\n",
       "      <td>banane</td>\n",
       "      <td>100</td>\n",
       "    </tr>\n",
       "  </tbody>\n",
       "</table>\n",
       "</div>"
      ],
      "text/plain": [
       "   frutta  qta\n",
       "1    mele   10\n",
       "2    pere   20\n",
       "3    kiwi   30\n",
       "9  banane  100"
      ]
     },
     "execution_count": 25,
     "metadata": {},
     "output_type": "execute_result"
    }
   ],
   "source": [
    "shop2 = shop.drop(20)\n",
    "shop2"
   ]
  },
  {
   "cell_type": "markdown",
   "metadata": {},
   "source": [
    "elenco degli indici di una tabella"
   ]
  },
  {
   "cell_type": "code",
   "execution_count": 26,
   "metadata": {},
   "outputs": [
    {
     "data": {
      "text/plain": [
       "Index([1, 2, 3, 9, 20], dtype='int64')"
      ]
     },
     "execution_count": 26,
     "metadata": {},
     "output_type": "execute_result"
    }
   ],
   "source": [
    "shop.index"
   ]
  },
  {
   "cell_type": "markdown",
   "metadata": {},
   "source": [
    "Ricavo l'ultimo indice"
   ]
  },
  {
   "cell_type": "code",
   "execution_count": 28,
   "metadata": {},
   "outputs": [
    {
     "data": {
      "text/plain": [
       "20"
      ]
     },
     "execution_count": 28,
     "metadata": {},
     "output_type": "execute_result"
    }
   ],
   "source": [
    "shop.index[-1]"
   ]
  },
  {
   "cell_type": "markdown",
   "metadata": {},
   "source": [
    "Cancello l'ultima riga"
   ]
  },
  {
   "cell_type": "code",
   "execution_count": 29,
   "metadata": {},
   "outputs": [
    {
     "data": {
      "text/html": [
       "<div>\n",
       "<style scoped>\n",
       "    .dataframe tbody tr th:only-of-type {\n",
       "        vertical-align: middle;\n",
       "    }\n",
       "\n",
       "    .dataframe tbody tr th {\n",
       "        vertical-align: top;\n",
       "    }\n",
       "\n",
       "    .dataframe thead th {\n",
       "        text-align: right;\n",
       "    }\n",
       "</style>\n",
       "<table border=\"1\" class=\"dataframe\">\n",
       "  <thead>\n",
       "    <tr style=\"text-align: right;\">\n",
       "      <th></th>\n",
       "      <th>frutta</th>\n",
       "      <th>qta</th>\n",
       "    </tr>\n",
       "  </thead>\n",
       "  <tbody>\n",
       "    <tr>\n",
       "      <th>1</th>\n",
       "      <td>mele</td>\n",
       "      <td>10</td>\n",
       "    </tr>\n",
       "    <tr>\n",
       "      <th>2</th>\n",
       "      <td>pere</td>\n",
       "      <td>20</td>\n",
       "    </tr>\n",
       "    <tr>\n",
       "      <th>3</th>\n",
       "      <td>kiwi</td>\n",
       "      <td>30</td>\n",
       "    </tr>\n",
       "    <tr>\n",
       "      <th>9</th>\n",
       "      <td>banane</td>\n",
       "      <td>100</td>\n",
       "    </tr>\n",
       "  </tbody>\n",
       "</table>\n",
       "</div>"
      ],
      "text/plain": [
       "   frutta  qta\n",
       "1    mele   10\n",
       "2    pere   20\n",
       "3    kiwi   30\n",
       "9  banane  100"
      ]
     },
     "execution_count": 29,
     "metadata": {},
     "output_type": "execute_result"
    }
   ],
   "source": [
    "shop3 = shop.drop(shop.index[-1])\n",
    "shop3"
   ]
  },
  {
   "cell_type": "markdown",
   "metadata": {},
   "source": [
    "Cancellare una colonna"
   ]
  },
  {
   "cell_type": "code",
   "execution_count": 30,
   "metadata": {},
   "outputs": [
    {
     "data": {
      "text/html": [
       "<div>\n",
       "<style scoped>\n",
       "    .dataframe tbody tr th:only-of-type {\n",
       "        vertical-align: middle;\n",
       "    }\n",
       "\n",
       "    .dataframe tbody tr th {\n",
       "        vertical-align: top;\n",
       "    }\n",
       "\n",
       "    .dataframe thead th {\n",
       "        text-align: right;\n",
       "    }\n",
       "</style>\n",
       "<table border=\"1\" class=\"dataframe\">\n",
       "  <thead>\n",
       "    <tr style=\"text-align: right;\">\n",
       "      <th></th>\n",
       "      <th>frutta</th>\n",
       "    </tr>\n",
       "  </thead>\n",
       "  <tbody>\n",
       "    <tr>\n",
       "      <th>1</th>\n",
       "      <td>mele</td>\n",
       "    </tr>\n",
       "    <tr>\n",
       "      <th>2</th>\n",
       "      <td>pere</td>\n",
       "    </tr>\n",
       "    <tr>\n",
       "      <th>3</th>\n",
       "      <td>kiwi</td>\n",
       "    </tr>\n",
       "    <tr>\n",
       "      <th>9</th>\n",
       "      <td>banane</td>\n",
       "    </tr>\n",
       "    <tr>\n",
       "      <th>20</th>\n",
       "      <td>pomodori</td>\n",
       "    </tr>\n",
       "  </tbody>\n",
       "</table>\n",
       "</div>"
      ],
      "text/plain": [
       "      frutta\n",
       "1       mele\n",
       "2       pere\n",
       "3       kiwi\n",
       "9     banane\n",
       "20  pomodori"
      ]
     },
     "execution_count": 30,
     "metadata": {},
     "output_type": "execute_result"
    }
   ],
   "source": [
    "shop4 = shop.drop('qta', axis=1)\n",
    "shop4\n"
   ]
  },
  {
   "cell_type": "markdown",
   "metadata": {},
   "source": [
    "# concateno tabelle"
   ]
  },
  {
   "cell_type": "code",
   "execution_count": 34,
   "metadata": {},
   "outputs": [
    {
     "data": {
      "text/html": [
       "<div>\n",
       "<style scoped>\n",
       "    .dataframe tbody tr th:only-of-type {\n",
       "        vertical-align: middle;\n",
       "    }\n",
       "\n",
       "    .dataframe tbody tr th {\n",
       "        vertical-align: top;\n",
       "    }\n",
       "\n",
       "    .dataframe thead th {\n",
       "        text-align: right;\n",
       "    }\n",
       "</style>\n",
       "<table border=\"1\" class=\"dataframe\">\n",
       "  <thead>\n",
       "    <tr style=\"text-align: right;\">\n",
       "      <th></th>\n",
       "      <th>frutta</th>\n",
       "      <th>qta</th>\n",
       "      <th>prz</th>\n",
       "    </tr>\n",
       "  </thead>\n",
       "  <tbody>\n",
       "    <tr>\n",
       "      <th>10</th>\n",
       "      <td>patate</td>\n",
       "      <td>10</td>\n",
       "      <td>1</td>\n",
       "    </tr>\n",
       "    <tr>\n",
       "      <th>20</th>\n",
       "      <td>sedano</td>\n",
       "      <td>20</td>\n",
       "      <td>2</td>\n",
       "    </tr>\n",
       "    <tr>\n",
       "      <th>30</th>\n",
       "      <td>zucche</td>\n",
       "      <td>30</td>\n",
       "      <td>3</td>\n",
       "    </tr>\n",
       "    <tr>\n",
       "      <th>90</th>\n",
       "      <td>cipolle</td>\n",
       "      <td>40</td>\n",
       "      <td>4</td>\n",
       "    </tr>\n",
       "  </tbody>\n",
       "</table>\n",
       "</div>"
      ],
      "text/plain": [
       "     frutta  qta  prz\n",
       "10   patate   10    1\n",
       "20   sedano   20    2\n",
       "30   zucche   30    3\n",
       "90  cipolle   40    4"
      ]
     },
     "execution_count": 34,
     "metadata": {},
     "output_type": "execute_result"
    }
   ],
   "source": [
    "#creo le colonne con i dati\n",
    "fruit2 = pd.Series(index=[10,20,30,90], data=['patate', 'sedano', 'zucche', 'cipolle'])\n",
    "magazzino2 = pd.Series(index=[10,20,30,90], data=[10,20,30,40])\n",
    "price2 = pd.Series(index=[10,20,30,90], data=[1,2,3,4])\n",
    "#combino le colonne in un dataframe\n",
    "orto = pd.DataFrame({'frutta':fruit2, 'qta':magazzino2, 'prz':price2})\n",
    "orto"
   ]
  },
  {
   "cell_type": "code",
   "execution_count": 35,
   "metadata": {},
   "outputs": [
    {
     "data": {
      "text/html": [
       "<div>\n",
       "<style scoped>\n",
       "    .dataframe tbody tr th:only-of-type {\n",
       "        vertical-align: middle;\n",
       "    }\n",
       "\n",
       "    .dataframe tbody tr th {\n",
       "        vertical-align: top;\n",
       "    }\n",
       "\n",
       "    .dataframe thead th {\n",
       "        text-align: right;\n",
       "    }\n",
       "</style>\n",
       "<table border=\"1\" class=\"dataframe\">\n",
       "  <thead>\n",
       "    <tr style=\"text-align: right;\">\n",
       "      <th></th>\n",
       "      <th>frutta</th>\n",
       "      <th>qta</th>\n",
       "      <th>prz</th>\n",
       "    </tr>\n",
       "  </thead>\n",
       "  <tbody>\n",
       "    <tr>\n",
       "      <th>0</th>\n",
       "      <td>mele</td>\n",
       "      <td>10</td>\n",
       "      <td>NaN</td>\n",
       "    </tr>\n",
       "    <tr>\n",
       "      <th>1</th>\n",
       "      <td>pere</td>\n",
       "      <td>20</td>\n",
       "      <td>NaN</td>\n",
       "    </tr>\n",
       "    <tr>\n",
       "      <th>2</th>\n",
       "      <td>kiwi</td>\n",
       "      <td>30</td>\n",
       "      <td>NaN</td>\n",
       "    </tr>\n",
       "    <tr>\n",
       "      <th>3</th>\n",
       "      <td>banane</td>\n",
       "      <td>100</td>\n",
       "      <td>NaN</td>\n",
       "    </tr>\n",
       "    <tr>\n",
       "      <th>4</th>\n",
       "      <td>pomodori</td>\n",
       "      <td>123</td>\n",
       "      <td>NaN</td>\n",
       "    </tr>\n",
       "    <tr>\n",
       "      <th>5</th>\n",
       "      <td>patate</td>\n",
       "      <td>10</td>\n",
       "      <td>1.0</td>\n",
       "    </tr>\n",
       "    <tr>\n",
       "      <th>6</th>\n",
       "      <td>sedano</td>\n",
       "      <td>20</td>\n",
       "      <td>2.0</td>\n",
       "    </tr>\n",
       "    <tr>\n",
       "      <th>7</th>\n",
       "      <td>zucche</td>\n",
       "      <td>30</td>\n",
       "      <td>3.0</td>\n",
       "    </tr>\n",
       "    <tr>\n",
       "      <th>8</th>\n",
       "      <td>cipolle</td>\n",
       "      <td>40</td>\n",
       "      <td>4.0</td>\n",
       "    </tr>\n",
       "  </tbody>\n",
       "</table>\n",
       "</div>"
      ],
      "text/plain": [
       "     frutta  qta  prz\n",
       "0      mele   10  NaN\n",
       "1      pere   20  NaN\n",
       "2      kiwi   30  NaN\n",
       "3    banane  100  NaN\n",
       "4  pomodori  123  NaN\n",
       "5    patate   10  1.0\n",
       "6    sedano   20  2.0\n",
       "7    zucche   30  3.0\n",
       "8   cipolle   40  4.0"
      ]
     },
     "execution_count": 35,
     "metadata": {},
     "output_type": "execute_result"
    }
   ],
   "source": [
    "glob = pd.concat([shop, orto]).reset_index(drop=True)\n",
    "glob"
   ]
  },
  {
   "cell_type": "markdown",
   "metadata": {},
   "source": [
    "# iterare sulle righe"
   ]
  },
  {
   "cell_type": "code",
   "execution_count": 36,
   "metadata": {},
   "outputs": [
    {
     "name": "stdout",
     "output_type": "stream",
     "text": [
      "mele 10\n",
      "pere 20\n",
      "kiwi 30\n",
      "banane 100\n",
      "pomodori 123\n"
     ]
    }
   ],
   "source": [
    "for i in shop.index:\n",
    "    el = shop.loc[i]\n",
    "    print(el['frutta'], el['qta'])"
   ]
  },
  {
   "cell_type": "code",
   "execution_count": 38,
   "metadata": {},
   "outputs": [
    {
     "name": "stdout",
     "output_type": "stream",
     "text": [
      "1 mele 10\n",
      "2 pere 20\n",
      "3 kiwi 30\n",
      "9 banane 100\n",
      "20 pomodori 123\n"
     ]
    }
   ],
   "source": [
    "for indice, valori in shop.iterrows():\n",
    "    print(indice, valori.frutta, valori.qta)"
   ]
  }
 ],
 "metadata": {
  "kernelspec": {
   "display_name": "Python 3",
   "language": "python",
   "name": "python3"
  },
  "language_info": {
   "codemirror_mode": {
    "name": "ipython",
    "version": 3
   },
   "file_extension": ".py",
   "mimetype": "text/x-python",
   "name": "python",
   "nbconvert_exporter": "python",
   "pygments_lexer": "ipython3",
   "version": "3.12.2"
  }
 },
 "nbformat": 4,
 "nbformat_minor": 2
}
